{
 "cells": [
  {
   "cell_type": "code",
   "execution_count": 2,
   "id": "da6b50d5-c776-484a-acbc-fb1eab6115ad",
   "metadata": {},
   "outputs": [
    {
     "name": "stdin",
     "output_type": "stream",
     "text": [
      "\n",
      "-------------------------------------------------------------\n",
      "1.게임    2.문제추가    3.문제저장    4.등수리스트    5.종료\n",
      "-------------------------------------------------------------\n",
      ">>>  2\n"
     ]
    },
    {
     "name": "stdout",
     "output_type": "stream",
     "text": [
      "문제추가작업\n"
     ]
    },
    {
     "name": "stdin",
     "output_type": "stream",
     "text": [
      "(종료:enter) >>> 노트\n"
     ]
    },
    {
     "name": "stdout",
     "output_type": "stream",
     "text": [
      "['cat', 'dog', ' 강아지', '고양이', '노트']\n"
     ]
    },
    {
     "name": "stdin",
     "output_type": "stream",
     "text": [
      "(종료:enter) >>> 컵\n"
     ]
    },
    {
     "name": "stdout",
     "output_type": "stream",
     "text": [
      "['cat', 'dog', ' 강아지', '고양이', '노트', '컵']\n"
     ]
    },
    {
     "name": "stdin",
     "output_type": "stream",
     "text": [
      "(종료:enter) >>> \n",
      "\n",
      "-------------------------------------------------------------\n",
      "1.게임    2.문제추가    3.문제저장    4.등수리스트    5.종료\n",
      "-------------------------------------------------------------\n",
      ">>>  5\n"
     ]
    },
    {
     "name": "stdout",
     "output_type": "stream",
     "text": [
      "프로그램 종료!\n"
     ]
    }
   ],
   "source": [
    "word = ['cat', 'dog',' 강아지','고양이']\n",
    "    \n",
    "menu_display = '''\n",
    "-------------------------------------------------------------\n",
    "1.게임    2.문제추가    3.문제저장    4.등수리스트    5.종료\n",
    "-------------------------------------------------------------\n",
    ">>> '''\n",
    "\n",
    "while True:\n",
    "        menu = input(menu_display)\n",
    "        if menu =='1':\n",
    "            print('게임시작!')\n",
    "        elif menu == '2':\n",
    "            print('문제추가작업')\n",
    "            while True:\n",
    "                data = input('(종료:enter) >>>')\n",
    "                if data == '':\n",
    "                    break\n",
    "                word.append(data)\n",
    "                print(word)\n",
    "        elif menu == '3':\n",
    "            print('문제저장작업')\n",
    "        elif menu == '4':\n",
    "            print('등수리스트')\n",
    "        elif menu == '5':\n",
    "            print('프로그램 종료!')\n",
    "            break\n",
    "        else:\n",
    "            print('메뉴를 선택하셨습니다.')"
   ]
  },
  {
   "cell_type": "code",
   "execution_count": null,
   "id": "d961542b-2a99-4001-9800-7855bfe884a7",
   "metadata": {},
   "outputs": [],
   "source": [
    "#저장\n"
   ]
  }
 ],
 "metadata": {
  "kernelspec": {
   "display_name": "Python 3 (ipykernel)",
   "language": "python",
   "name": "python3"
  },
  "language_info": {
   "codemirror_mode": {
    "name": "ipython",
    "version": 3
   },
   "file_extension": ".py",
   "mimetype": "text/x-python",
   "name": "python",
   "nbconvert_exporter": "python",
   "pygments_lexer": "ipython3",
   "version": "3.9.12"
  }
 },
 "nbformat": 4,
 "nbformat_minor": 5
}
