{
 "cells": [
  {
   "cell_type": "code",
   "execution_count": null,
   "id": "93aa5d37-872b-4e3e-b09b-48cdedc854a1",
   "metadata": {},
   "outputs": [],
   "source": [
    "숫자형"
   ]
  },
  {
   "cell_type": "markdown",
   "id": "275407a1-22af-4423-8c30-17214b279d52",
   "metadata": {},
   "source": [
    "# 숫자형"
   ]
  },
  {
   "cell_type": "code",
   "execution_count": 1,
   "id": "db7dddfa-cf93-4e7b-8288-f243ddc1f8de",
   "metadata": {},
   "outputs": [],
   "source": [
    "a = 123"
   ]
  },
  {
   "cell_type": "code",
   "execution_count": 2,
   "id": "f644cce9-b01b-44a1-9fbf-cde8ccd9001e",
   "metadata": {},
   "outputs": [
    {
     "name": "stdout",
     "output_type": "stream",
     "text": [
      "123\n"
     ]
    }
   ],
   "source": [
    "print(a)"
   ]
  },
  {
   "cell_type": "code",
   "execution_count": 3,
   "id": "d570c927-ee92-4e85-a290-77cd80d49e6a",
   "metadata": {},
   "outputs": [
    {
     "data": {
      "text/plain": [
       "123"
      ]
     },
     "execution_count": 3,
     "metadata": {},
     "output_type": "execute_result"
    }
   ],
   "source": [
    "a"
   ]
  },
  {
   "cell_type": "code",
   "execution_count": 5,
   "id": "24f8ae55-b323-4c53-a5fc-f5667b658cbe",
   "metadata": {},
   "outputs": [],
   "source": [
    "b=456"
   ]
  },
  {
   "cell_type": "code",
   "execution_count": 14,
   "id": "698788c2-7b8c-4d47-a18b-4c526581047c",
   "metadata": {},
   "outputs": [
    {
     "name": "stdout",
     "output_type": "stream",
     "text": [
      "1.9\n"
     ]
    },
    {
     "data": {
      "text/plain": [
       "456"
      ]
     },
     "execution_count": 14,
     "metadata": {},
     "output_type": "execute_result"
    }
   ],
   "source": [
    "print(a)\n",
    "b #여러개를 한 줄 씩 출력할 경우 위쪽의 출력을 원하는 항목은 print()를 사용하고 마지막 항목은 print() 생략 가능하다"
   ]
  },
  {
   "cell_type": "code",
   "execution_count": 10,
   "id": "78f2e4e8-288d-4ae1-8532-35d6656fe3d5",
   "metadata": {},
   "outputs": [
    {
     "data": {
      "text/plain": [
       "(123, 456)"
      ]
     },
     "execution_count": 10,
     "metadata": {},
     "output_type": "execute_result"
    }
   ],
   "source": [
    "a,b #튜플이다. () 괄호 안에 있지만 상황에 따라 생략해도 읽힌다."
   ]
  },
  {
   "cell_type": "code",
   "execution_count": 11,
   "id": "c275728f-3f91-4a39-9719-77757a73b62d",
   "metadata": {},
   "outputs": [
    {
     "data": {
      "text/plain": [
       "int"
      ]
     },
     "execution_count": 11,
     "metadata": {},
     "output_type": "execute_result"
    }
   ],
   "source": [
    "type(a) #a 라는 변수가 어떠한 타입인지 출력하는 명령어"
   ]
  },
  {
   "cell_type": "code",
   "execution_count": 12,
   "id": "1e5a5835-72f9-45f3-bbe7-84bab90201f2",
   "metadata": {},
   "outputs": [
    {
     "data": {
      "text/plain": [
       "1.9"
      ]
     },
     "execution_count": 12,
     "metadata": {},
     "output_type": "execute_result"
    }
   ],
   "source": [
    "a=1.9\n",
    "a"
   ]
  },
  {
   "cell_type": "code",
   "execution_count": 13,
   "id": "93e37ea3-5bb9-46a0-a88f-6b132c6373f6",
   "metadata": {},
   "outputs": [
    {
     "data": {
      "text/plain": [
       "float"
      ]
     },
     "execution_count": 13,
     "metadata": {},
     "output_type": "execute_result"
    }
   ],
   "source": [
    "type(a)"
   ]
  },
  {
   "cell_type": "code",
   "execution_count": 70,
   "id": "bfc5502f-4955-4d67-8ca9-0fc4a83a8c8a",
   "metadata": {},
   "outputs": [],
   "source": [
    "#print() 를 적고 shift + tab 을 하면 api에 등록된 관련 정보를 바로 볼 수 있다."
   ]
  },
  {
   "cell_type": "code",
   "execution_count": 20,
   "id": "d1224920-9b40-4257-9ebf-be159dfb8b74",
   "metadata": {},
   "outputs": [
    {
     "data": {
      "text/plain": [
       "\u001b[0;31mDocstring:\u001b[0m\n",
       "print(value, ..., sep=' ', end='\\n', file=sys.stdout, flush=False)\n",
       "\n",
       "Prints the values to a stream, or to sys.stdout by default.\n",
       "Optional keyword arguments:\n",
       "file:  a file-like object (stream); defaults to the current sys.stdout.\n",
       "sep:   string inserted between values, default a space.\n",
       "end:   string appended after the last value, default a newline.\n",
       "flush: whether to forcibly flush the stream.\n",
       "\u001b[0;31mType:\u001b[0m      builtin_function_or_method\n"
      ]
     },
     "metadata": {},
     "output_type": "display_data"
    }
   ],
   "source": [
    "print?"
   ]
  },
  {
   "cell_type": "code",
   "execution_count": 21,
   "id": "6acfff19-64ee-41dc-8ce9-0b8c40527db0",
   "metadata": {},
   "outputs": [
    {
     "name": "stdout",
     "output_type": "stream",
     "text": [
      "Help on built-in function print in module builtins:\n",
      "\n",
      "print(...)\n",
      "    print(value, ..., sep=' ', end='\\n', file=sys.stdout, flush=False)\n",
      "    \n",
      "    Prints the values to a stream, or to sys.stdout by default.\n",
      "    Optional keyword arguments:\n",
      "    file:  a file-like object (stream); defaults to the current sys.stdout.\n",
      "    sep:   string inserted between values, default a space.\n",
      "    end:   string appended after the last value, default a newline.\n",
      "    flush: whether to forcibly flush the stream.\n",
      "\n"
     ]
    }
   ],
   "source": [
    "help(print) # print?도, help(print)도 print() shift + tab 을 한 거와 같은 내용"
   ]
  },
  {
   "cell_type": "code",
   "execution_count": 23,
   "id": "b81e81df-e1d4-4f66-af8f-6dfb007105d3",
   "metadata": {},
   "outputs": [
    {
     "name": "stdin",
     "output_type": "stream",
     "text": [
      "숫자를 입력하세요 >>>  555\n"
     ]
    }
   ],
   "source": [
    "num1 = input('숫자를 입력하세요 >>> ') #문자열을 적을 경우 작은 따옴표, 큰 따옴표 둘 다 사용 가능하다."
   ]
  },
  {
   "cell_type": "code",
   "execution_count": 24,
   "id": "4e169660-dad8-467c-a3b8-0ddaea10bdc9",
   "metadata": {},
   "outputs": [
    {
     "data": {
      "text/plain": [
       "str"
      ]
     },
     "execution_count": 24,
     "metadata": {},
     "output_type": "execute_result"
    }
   ],
   "source": [
    "type(num1)"
   ]
  },
  {
   "cell_type": "code",
   "execution_count": 25,
   "id": "b2861f93-7cf0-44ba-825a-3fdfebe58c38",
   "metadata": {},
   "outputs": [
    {
     "name": "stdout",
     "output_type": "stream",
     "text": [
      "555\n"
     ]
    }
   ],
   "source": [
    "print(num1)"
   ]
  },
  {
   "cell_type": "code",
   "execution_count": 29,
   "id": "f88312ce-276b-464e-8725-5e45ad2a2bea",
   "metadata": {},
   "outputs": [],
   "source": [
    "# 주석을 적을 땐 샵(#)을 적어도 되지만 단축키로 control + / 를 사용하면 된다."
   ]
  },
  {
   "cell_type": "code",
   "execution_count": 31,
   "id": "326796a6-45f2-4941-a2cc-0899128f4fa3",
   "metadata": {},
   "outputs": [],
   "source": [
    "# 박스에 과일을 넣는 작업 중입니다.\n",
    "# 박스당 들어가는 과일의 갯수와 전체 과일의 갯수를 입력 받아서\n",
    "# 몇 박스 몇개가 남는지 출력한다.\n",
    "# 입력 : 박스당 과일 수, 전체 과일 수\n",
    "# 출력 : x박스 x개"
   ]
  },
  {
   "cell_type": "code",
   "execution_count": 32,
   "id": "1e903370-c202-490a-9a85-85833122250f",
   "metadata": {},
   "outputs": [
    {
     "name": "stdin",
     "output_type": "stream",
     "text": [
      "전체 과일의 갯수 >>> 200\n",
      "박스당 과일의 갯수 >>> 8\n"
     ]
    },
    {
     "name": "stdout",
     "output_type": "stream",
     "text": [
      "25 박스,  0 개\n"
     ]
    }
   ],
   "source": [
    "total = int(input('전체 과일의 갯수 >>>')) #input은 기본 str 타입이기에 int형으로 바꿔준다.\n",
    "box_count = int(input('박스당 과일의 갯수 >>>'))\n",
    "box = total // box_count\n",
    "count = total % box_count\n",
    "print(box, '박스, ', count, '개')"
   ]
  },
  {
   "cell_type": "code",
   "execution_count": 34,
   "id": "94b8bfea-d252-4ce7-9f03-d1757972784e",
   "metadata": {},
   "outputs": [],
   "source": [
    "# str -> int : 1,000단위는 오류, $를 적고 하면 $ 때문에 오류가 된다. int 로 바꿀 수 있는 것에 대해서만 바꿀 수 있다. 즉, 모양이 맞아야 바꿔진다."
   ]
  },
  {
   "cell_type": "markdown",
   "id": "b012c2e5-2575-4bdb-a839-b66c385781fa",
   "metadata": {},
   "source": [
    "## 문자열 자료형"
   ]
  },
  {
   "cell_type": "code",
   "execution_count": 38,
   "id": "4f99607b-2d29-4cb4-81ab-277b248627b9",
   "metadata": {},
   "outputs": [
    {
     "data": {
      "text/plain": [
       "\"hello 'python'\""
      ]
     },
     "execution_count": 38,
     "metadata": {},
     "output_type": "execute_result"
    }
   ],
   "source": [
    "\"hello 'python'\""
   ]
  },
  {
   "cell_type": "code",
   "execution_count": 39,
   "id": "5cff7d09-25b3-4692-ba58-b5e2a4cab565",
   "metadata": {},
   "outputs": [
    {
     "data": {
      "text/plain": [
       "'hello \"python\"'"
      ]
     },
     "execution_count": 39,
     "metadata": {},
     "output_type": "execute_result"
    }
   ],
   "source": [
    "'hello \"python\"'"
   ]
  },
  {
   "cell_type": "code",
   "execution_count": 40,
   "id": "56c0252c-5cab-414f-8c5b-6a95ed30c58f",
   "metadata": {},
   "outputs": [],
   "source": [
    "#'hello \n",
    "#!!!!'\n",
    "#만 적으면 오류가 뜨기에 \"\"\" 또는 ''' 3개 연속으로 적어주면 줄 바꿔도 가능하다!"
   ]
  },
  {
   "cell_type": "code",
   "execution_count": 41,
   "id": "2f0b6f56-e6a3-4d73-b6c8-bc827c5da347",
   "metadata": {},
   "outputs": [
    {
     "data": {
      "text/plain": [
       "' hello\\n!!!!\\npython\\n!!!\\n'"
      ]
     },
     "execution_count": 41,
     "metadata": {},
     "output_type": "execute_result"
    }
   ],
   "source": [
    "''' hello\n",
    "!!!!\n",
    "python\n",
    "!!!\n",
    "'''"
   ]
  },
  {
   "cell_type": "code",
   "execution_count": 42,
   "id": "4bba4a59-e1e7-4b09-9fb0-8b6f33049b41",
   "metadata": {},
   "outputs": [],
   "source": [
    "# 한줄 짜리에 줄 바꿈을 나타내고 싶으면 원하는 위치에서 \\n 을 사용하면 적용된다."
   ]
  },
  {
   "cell_type": "code",
   "execution_count": 43,
   "id": "6e8ffa09-e335-4b63-bc49-36fdb2ba142b",
   "metadata": {},
   "outputs": [
    {
     "data": {
      "text/plain": [
       "1.9"
      ]
     },
     "execution_count": 43,
     "metadata": {},
     "output_type": "execute_result"
    }
   ],
   "source": [
    "a"
   ]
  },
  {
   "cell_type": "code",
   "execution_count": 44,
   "id": "38a1c57c-0df6-44dc-af11-5e6126b3ec7a",
   "metadata": {},
   "outputs": [
    {
     "data": {
      "text/plain": [
       "2.9"
      ]
     },
     "execution_count": 44,
     "metadata": {},
     "output_type": "execute_result"
    }
   ],
   "source": [
    "1 + a"
   ]
  },
  {
   "cell_type": "code",
   "execution_count": 45,
   "id": "c76505e1-1b35-4efc-9fbe-b9fdcc74dd0a",
   "metadata": {},
   "outputs": [
    {
     "data": {
      "text/plain": [
       "'1a'"
      ]
     },
     "execution_count": 45,
     "metadata": {},
     "output_type": "execute_result"
    }
   ],
   "source": [
    "'1' + 'a'"
   ]
  },
  {
   "cell_type": "markdown",
   "id": "8e4dabc4-707f-49ce-b755-77abfc71003e",
   "metadata": {},
   "source": [
    "### 문자열 곱하기"
   ]
  },
  {
   "cell_type": "code",
   "execution_count": 46,
   "id": "1596ae63-1e0b-43d3-937d-3eb8ec1cbff9",
   "metadata": {},
   "outputs": [
    {
     "data": {
      "text/plain": [
       "'1111'"
      ]
     },
     "execution_count": 46,
     "metadata": {},
     "output_type": "execute_result"
    }
   ],
   "source": [
    "'1'*4"
   ]
  },
  {
   "cell_type": "code",
   "execution_count": 47,
   "id": "6fcbf29d-4ecd-46de-a31a-e251bdbe5042",
   "metadata": {},
   "outputs": [
    {
     "name": "stdout",
     "output_type": "stream",
     "text": [
      "==================================================\n"
     ]
    }
   ],
   "source": [
    "print('=' * 50)"
   ]
  },
  {
   "cell_type": "markdown",
   "id": "34d264b4-8837-4454-a215-b5460b852b55",
   "metadata": {},
   "source": [
    "### 문자열 길이 구하기"
   ]
  },
  {
   "cell_type": "code",
   "execution_count": 50,
   "id": "0a0ec886-2aeb-45aa-b2e3-97936707dcdd",
   "metadata": {},
   "outputs": [],
   "source": [
    "# lne()은 공백 포함하여 길이 값 구하는 것!"
   ]
  },
  {
   "cell_type": "code",
   "execution_count": 49,
   "id": "0c37e238-f331-4da1-b1f8-6f44e9ce9967",
   "metadata": {},
   "outputs": [
    {
     "data": {
      "text/plain": [
       "17"
      ]
     },
     "execution_count": 49,
     "metadata": {},
     "output_type": "execute_result"
    }
   ],
   "source": [
    "a = 'life is too short'\n",
    "len(a)"
   ]
  },
  {
   "cell_type": "markdown",
   "id": "b4775cfd-e4b3-4524-acf0-4793dd3aeffc",
   "metadata": {},
   "source": [
    "### 문자열 인덱싱과 슬라이싱"
   ]
  },
  {
   "cell_type": "code",
   "execution_count": 51,
   "id": "19d91231-fd2b-40ea-9b6a-61303b865992",
   "metadata": {},
   "outputs": [],
   "source": [
    "a = 'Life is too short, You need Python'"
   ]
  },
  {
   "cell_type": "code",
   "execution_count": 55,
   "id": "32553593-455f-4825-a55f-7d4b067c6dfb",
   "metadata": {},
   "outputs": [
    {
     "data": {
      "text/plain": [
       "'L'"
      ]
     },
     "execution_count": 55,
     "metadata": {},
     "output_type": "execute_result"
    }
   ],
   "source": [
    "a[0] #앞에서 글자 접근"
   ]
  },
  {
   "cell_type": "code",
   "execution_count": 56,
   "id": "b98bdbe2-b793-4c33-845b-dba9d93b10d6",
   "metadata": {},
   "outputs": [
    {
     "data": {
      "text/plain": [
       "'n'"
      ]
     },
     "execution_count": 56,
     "metadata": {},
     "output_type": "execute_result"
    }
   ],
   "source": [
    "a[-1] #뒤에서 글자 접근"
   ]
  },
  {
   "cell_type": "code",
   "execution_count": 57,
   "id": "4a1d55bb-94b7-4d5c-8605-166aa94c6a1f",
   "metadata": {},
   "outputs": [
    {
     "data": {
      "text/plain": [
       "'Lif'"
      ]
     },
     "execution_count": 57,
     "metadata": {},
     "output_type": "execute_result"
    }
   ],
   "source": [
    "a[0:3] ##뒤에 글자는 포함이 안된다. 0에서 부터 3까지 가 아니라 a에서 부터 3앞 까지인 2 까지 출력 된다."
   ]
  },
  {
   "cell_type": "code",
   "execution_count": 60,
   "id": "281d9c8e-b903-4b91-bec2-71c06f77781a",
   "metadata": {},
   "outputs": [
    {
     "data": {
      "text/plain": [
       "'Life'"
      ]
     },
     "execution_count": 60,
     "metadata": {},
     "output_type": "execute_result"
    }
   ],
   "source": [
    "a[:4] #앞에서 부터 4 까지, 앞쪽 생략은 처음부터"
   ]
  },
  {
   "cell_type": "code",
   "execution_count": 61,
   "id": "c3e78cbf-8613-4c63-b147-809629e9a153",
   "metadata": {},
   "outputs": [
    {
     "data": {
      "text/plain": [
       "'Python'"
      ]
     },
     "execution_count": 61,
     "metadata": {},
     "output_type": "execute_result"
    }
   ],
   "source": [
    " a[-6:] #뒤쪽 생략은 끝까지"
   ]
  },
  {
   "cell_type": "code",
   "execution_count": 62,
   "id": "483e0b2c-df17-40f5-93d0-8c529218e7d0",
   "metadata": {},
   "outputs": [],
   "source": [
    "# 주민등록 번호를 입력 받아서 생년월일과 성별을 출력하세요\n",
    "# 3항 연산자를 이용 (조건 ? 참일 때 : 거짓일 때)"
   ]
  },
  {
   "cell_type": "code",
   "execution_count": null,
   "id": "d22f6870-e683-4995-a9ab-d77282eb7769",
   "metadata": {
    "jupyter": {
     "source_hidden": true
    },
    "tags": []
   },
   "outputs": [],
   "source": []
  },
  {
   "cell_type": "code",
   "execution_count": 65,
   "id": "1a1df17f-ee16-4aee-b0ad-3cef18d179b0",
   "metadata": {},
   "outputs": [
    {
     "name": "stdin",
     "output_type": "stream",
     "text": [
      "주민등록번호 입력 >>> 20220627-2193832'\n"
     ]
    },
    {
     "name": "stdout",
     "output_type": "stream",
     "text": [
      "생년월일 202206\n",
      "성별 여자\n"
     ]
    }
   ],
   "source": [
    "jumin = input('주민등록번호 입력 >>>')\n",
    "print('생년월일', jumin[:6])\n",
    "print('성별','남자' if jumin[7]=='2' else '여자')"
   ]
  },
  {
   "cell_type": "markdown",
   "id": "f8c804cd-d994-402f-8821-705c265acb77",
   "metadata": {},
   "source": [
    "## 문자열 포매팅"
   ]
  },
  {
   "cell_type": "code",
   "execution_count": 68,
   "id": "3e06bf8d-9198-4013-8fdd-a74a5573ecb8",
   "metadata": {},
   "outputs": [
    {
     "data": {
      "text/plain": [
       "'i eat 3 apples.'"
      ]
     },
     "execution_count": 68,
     "metadata": {},
     "output_type": "execute_result"
    }
   ],
   "source": [
    "\"i eat %d apples.\" % 3 # 문자열이 바뀌는 곳은  %f // %d // %s 로 적는다. 뒤쪽에 %를 적고 원하는 구문을 넣는다."
   ]
  },
  {
   "cell_type": "code",
   "execution_count": 69,
   "id": "2537147d-77e5-4a4a-96cb-7b143dbbdffd",
   "metadata": {},
   "outputs": [
    {
     "data": {
      "text/plain": [
       "'i eat 3 apples. end'"
      ]
     },
     "execution_count": 69,
     "metadata": {},
     "output_type": "execute_result"
    }
   ],
   "source": [
    "\"i eat %d apples. %s\" % (3, \"end\") #여러개를 적을 땐 괄호로 묶어서 사용한다."
   ]
  },
  {
   "cell_type": "code",
   "execution_count": 73,
   "id": "e9db5b28-7777-4b35-b9aa-0e81b602d758",
   "metadata": {},
   "outputs": [
    {
     "data": {
      "text/plain": [
       "'i eat 3 apples. count'"
      ]
     },
     "execution_count": 73,
     "metadata": {},
     "output_type": "execute_result"
    }
   ],
   "source": [
    "'i eat {} apples. {}'.format(3,'count') #%f, %d, %s 대신에 데이터 타입에 상관 없이 {} 중괄호를 사용한다.\n",
    "# str 개체에서 제공하는(지원하는) format을 사용"
   ]
  },
  {
   "cell_type": "code",
   "execution_count": 77,
   "id": "1c97023b-3f07-49a3-8aaf-6991e6f0fb95",
   "metadata": {},
   "outputs": [
    {
     "data": {
      "text/plain": [
       "'i eat 321,321.12 apples. count'"
      ]
     },
     "execution_count": 77,
     "metadata": {},
     "output_type": "execute_result"
    }
   ],
   "source": [
    "'i eat {:^10,.2f} apples. {}'.format(321321.123456,'count') #10칸이고(10자리 확보) 소수 이하 2자리 까지, 이땐 f 붙여줘야 한다.\n",
    "# < 왼쪽 정렬, > 오른족 정렬, ^ 중앙 정렬\n",
    "# :^10,.2f 콤마를 붙일 경우 1000단위 표시해준다."
   ]
  },
  {
   "cell_type": "markdown",
   "id": "7e82a060-abca-4595-8bd7-9c4b1942df34",
   "metadata": {},
   "source": [
    "### f 문자열 포매팅"
   ]
  },
  {
   "cell_type": "code",
   "execution_count": 79,
   "id": "4926c777-7112-436e-b31c-6743b7b88bd8",
   "metadata": {},
   "outputs": [],
   "source": [
    "# 파이썬 3.6버전 부터 사용 가능함"
   ]
  },
  {
   "cell_type": "code",
   "execution_count": 80,
   "id": "7d89c96a-829c-4fde-8d9a-b8ba8421004b",
   "metadata": {},
   "outputs": [
    {
     "name": "stdin",
     "output_type": "stream",
     "text": [
      "이름을 입력하세요 >>> 이정화\n",
      "나이를 입력하세요 >>> 28\n"
     ]
    },
    {
     "name": "stdout",
     "output_type": "stream",
     "text": [
      "이름은 이정화이고, 나이는 28살 입니다.\n"
     ]
    }
   ],
   "source": [
    "name = input('이름을 입력하세요 >>>')\n",
    "age = input('나이를 입력하세요 >>>')\n",
    "print('이름은 {}이고, 나이는 {}살 입니다.'.format(name, age))"
   ]
  },
  {
   "cell_type": "code",
   "execution_count": 81,
   "id": "2d68a04f-4f3b-4ad4-a0d5-1e76f684bd85",
   "metadata": {},
   "outputs": [
    {
     "name": "stdin",
     "output_type": "stream",
     "text": [
      "이름을 입력하세요 >>> 이정화\n",
      "나이를 입력하세요 >>> 28\n"
     ]
    },
    {
     "name": "stdout",
     "output_type": "stream",
     "text": [
      "이름은 이정화이고, 나이는 28살 입니다.\n"
     ]
    }
   ],
   "source": [
    "name = input('이름을 입력하세요 >>>')\n",
    "age = input('나이를 입력하세요 >>>')\n",
    "print(f'이름은 {name}이고, 나이는 {age}살 입니다.')"
   ]
  },
  {
   "cell_type": "code",
   "execution_count": 83,
   "id": "21c5190c-2b01-48b7-a35a-37e614fc4aa0",
   "metadata": {},
   "outputs": [
    {
     "name": "stdin",
     "output_type": "stream",
     "text": [
      "이름을 입력하세요 >>> 홍길동\n",
      "나이를 입력하세요 >>> 34\n"
     ]
    },
    {
     "name": "stdout",
     "output_type": "stream",
     "text": [
      "이름은 홍길동이고, 나이는 34.0살 입니다.\n"
     ]
    }
   ],
   "source": [
    "name = input('이름을 입력하세요 >>>')\n",
    "age = int(input('나이를 입력하세요 >>>'))\n",
    "print(f'이름은 {name}이고, 나이는 {age:.1f}살 입니다.')"
   ]
  },
  {
   "cell_type": "markdown",
   "id": "d8a265f5-aae7-49f4-9fef-7ea821734d23",
   "metadata": {},
   "source": [
    "## 문자열 관련 함수"
   ]
  },
  {
   "cell_type": "code",
   "execution_count": 84,
   "id": "3abede25-be9c-4919-9322-cbd4047d7111",
   "metadata": {},
   "outputs": [
    {
     "data": {
      "text/plain": [
       "2"
      ]
     },
     "execution_count": 84,
     "metadata": {},
     "output_type": "execute_result"
    }
   ],
   "source": [
    "a = \"hobby\"\n",
    "a.count('b') #b라는 글자가 몇 번이 들어가 있는지 세어보는 함수"
   ]
  },
  {
   "cell_type": "code",
   "execution_count": 88,
   "id": "893ddc6c-f998-4a81-865a-a17c76f9a44c",
   "metadata": {},
   "outputs": [
    {
     "data": {
      "text/plain": [
       "14"
      ]
     },
     "execution_count": 88,
     "metadata": {},
     "output_type": "execute_result"
    }
   ],
   "source": [
    "a = \"Python is the best choice\"\n",
    "a.find('b') #인덱스를 리턴하는 것, b가 여러번 있으면 처음 있는 글자의 위치 찹아주는 함수, 찾는 글자가 없을 경우 -1이 출력된다."
   ]
  },
  {
   "cell_type": "code",
   "execution_count": 87,
   "id": "c6574d41-cd52-4780-b9de-1dd0b5a9cd24",
   "metadata": {},
   "outputs": [
    {
     "data": {
      "text/plain": [
       "8"
      ]
     },
     "execution_count": 87,
     "metadata": {},
     "output_type": "execute_result"
    }
   ],
   "source": [
    "a = \"Life is too short\"\n",
    "a.index('t')"
   ]
  },
  {
   "cell_type": "code",
   "execution_count": 89,
   "id": "76743de8-633e-4ae2-9455-2971244ce3e9",
   "metadata": {
    "collapsed": true,
    "jupyter": {
     "outputs_hidden": true
    },
    "tags": []
   },
   "outputs": [
    {
     "ename": "ValueError",
     "evalue": "substring not found",
     "output_type": "error",
     "traceback": [
      "\u001b[0;31m---------------------------------------------------------------------------\u001b[0m",
      "\u001b[0;31mValueError\u001b[0m                                Traceback (most recent call last)",
      "Input \u001b[0;32mIn [89]\u001b[0m, in \u001b[0;36m<cell line: 1>\u001b[0;34m()\u001b[0m\n\u001b[0;32m----> 1\u001b[0m \u001b[43ma\u001b[49m\u001b[38;5;241;43m.\u001b[39;49m\u001b[43mindex\u001b[49m\u001b[43m(\u001b[49m\u001b[38;5;124;43m'\u001b[39;49m\u001b[38;5;124;43mk\u001b[39;49m\u001b[38;5;124;43m'\u001b[39;49m\u001b[43m)\u001b[49m\n",
      "\u001b[0;31mValueError\u001b[0m: substring not found"
     ]
    }
   ],
   "source": [
    "a.index('k')\n",
    "#find는 없을 경우 -1이 출력 되지만, index는 찾는 글자가 없을 경우 오류가 뜬다"
   ]
  },
  {
   "cell_type": "code",
   "execution_count": 90,
   "id": "b9177222-1984-4342-8a3f-27997bbd530e",
   "metadata": {},
   "outputs": [
    {
     "data": {
      "text/plain": [
       "'a,b,c,d'"
      ]
     },
     "execution_count": 90,
     "metadata": {},
     "output_type": "execute_result"
    }
   ],
   "source": [
    "','.join('abcd')"
   ]
  },
  {
   "cell_type": "code",
   "execution_count": 92,
   "id": "0c7240a8-7114-4ed4-bc98-b6298b7e8170",
   "metadata": {},
   "outputs": [
    {
     "data": {
      "text/plain": [
       "'abc,edf,78'"
      ]
     },
     "execution_count": 92,
     "metadata": {},
     "output_type": "execute_result"
    }
   ],
   "source": [
    "','.join(['abc','edf','78']) #대괄호는 리스트, 배열은 아니다! \n",
    "# 문자열 하나 하나로 구분"
   ]
  },
  {
   "cell_type": "markdown",
   "id": "3282c1c8-3aaf-4058-b5b6-2036f51933fc",
   "metadata": {},
   "source": [
    "## 공백 지우기\n",
    "왼쪽 공백 -> .lstrip() // 오른쪽 공백 -> .rstrip() // 양쪽 공백 -> .strip()"
   ]
  },
  {
   "cell_type": "code",
   "execution_count": 94,
   "id": "2bbfdeb2-9137-4a07-a1b9-5b9bce48c45b",
   "metadata": {},
   "outputs": [
    {
     "data": {
      "text/plain": [
       "['Life', 'is', 'too', 'short']"
      ]
     },
     "execution_count": 94,
     "metadata": {},
     "output_type": "execute_result"
    }
   ],
   "source": [
    "a = \"Life,is,too,short\"\n",
    "a.split(sep=',')"
   ]
  },
  {
   "cell_type": "code",
   "execution_count": 98,
   "id": "041784e8-0d37-4881-82b8-1b845359da79",
   "metadata": {},
   "outputs": [
    {
     "name": "stdout",
     "output_type": "stream",
     "text": [
      "taxi\n",
      "----\n"
     ]
    }
   ],
   "source": [
    "money = True\n",
    "if money:\n",
    "    print('taxi')\n",
    "    print('----')\n",
    "    # 들여쓰기(tab) 띄어쓰기 4칸이다. 파이썬은 들여쓰기 중요하다!!!!!!\n",
    "    #Indent~~~ 라고 뜬 에러는 내가 줄을 제대로 안맞췄구나 라고 생각하고 에러를 찾으면 된다.\n",
    "else:#조건이 더 있을 경우에는 elif 을 사용한다.\n",
    "    print('walk')"
   ]
  },
  {
   "cell_type": "code",
   "execution_count": 99,
   "id": "987e7445-cfee-4910-bdec-6d50b8bc6464",
   "metadata": {},
   "outputs": [],
   "source": [
    "#파이썬은 중괄호가 없기에 내용을 아예 안적으면 문법 상 오류가 발생하기에 pass를 적어줘야 한다.\n",
    "#아래 예시"
   ]
  },
  {
   "cell_type": "code",
   "execution_count": 106,
   "id": "32717862-4185-4346-9ebb-56d1f45a5f77",
   "metadata": {},
   "outputs": [],
   "source": [
    "if 'money' in ['card','money']:\n",
    "    pass #구조상 뭔가 들어가야 하는데 지금 당장 결정을 못하는 경우 일단은 건너 뛰겠다는 의미로 사용 가능하다.\n",
    "else:\n",
    "    print('카드를 꺼내라')"
   ]
  },
  {
   "cell_type": "code",
   "execution_count": 101,
   "id": "714cc2d7-4547-4c32-99c0-ca647a1735f6",
   "metadata": {},
   "outputs": [],
   "source": [
    "if 'money' in ['card','money']:pass\n",
    "else:print('카드를 꺼내라')\n",
    "#문장이 한줄만 있을 경우 한줄로 사용해도 가능하다."
   ]
  },
  {
   "cell_type": "code",
   "execution_count": 102,
   "id": "509cbc75-9a5d-4ed5-93ca-cbb6f76b3c92",
   "metadata": {},
   "outputs": [],
   "source": [
    "# while문에서 숫자 0 이면 T, 1이면 F // []안에 글자가 있으면 T, 없으면 F"
   ]
  },
  {
   "cell_type": "code",
   "execution_count": 103,
   "id": "3af68a50-4cfe-4c53-b09d-74860a3716a0",
   "metadata": {},
   "outputs": [],
   "source": [
    "# while True: 또는 while 1: 을 사용하면 무한루프가 돈다.\n",
    "# continue를 만나면 해당 회차에 남은 것은 건너뛰고 다른 회차로 진행한다."
   ]
  },
  {
   "cell_type": "code",
   "execution_count": 104,
   "id": "c2129429-b4b0-40bc-8b8e-6e0a77fd4d41",
   "metadata": {},
   "outputs": [],
   "source": [
    "#이터러블하다 = 반복 가능하다라는 뜻"
   ]
  },
  {
   "cell_type": "code",
   "execution_count": 105,
   "id": "2697cb83-4600-4473-96d8-3f80478e8926",
   "metadata": {},
   "outputs": [],
   "source": [
    "#range() 는 순차적으로 진행하게 해주는 함수. 마치 자바의 for 문으로 i 까지 돌리게 하는 것\n",
    "#range(10) -> 0 ~ 10 // range(1,10) -> 1 ~ 10"
   ]
  },
  {
   "cell_type": "code",
   "execution_count": 110,
   "id": "9e9cb2de-6b8e-4123-9ee2-acb43d13f035",
   "metadata": {},
   "outputs": [],
   "source": [
    "## 구구단 출력하기\n",
    "# -2단-\n",
    "# 2*1=2\n",
    "# ...\n",
    "\n",
    "# -3단-\n",
    "# ..."
   ]
  },
  {
   "cell_type": "code",
   "execution_count": 114,
   "id": "808b20be-f07f-46d0-b937-97f42787509f",
   "metadata": {
    "collapsed": true,
    "jupyter": {
     "outputs_hidden": true
    },
    "tags": []
   },
   "outputs": [
    {
     "name": "stdout",
     "output_type": "stream",
     "text": [
      "----2단----\n",
      "2 * 1 =  2\n",
      "2 * 2 =  4\n",
      "2 * 3 =  6\n",
      "2 * 4 =  8\n",
      "2 * 5 = 10\n",
      "2 * 6 = 12\n",
      "2 * 7 = 14\n",
      "2 * 8 = 16\n",
      "2 * 9 = 18\n",
      "\n",
      "----3단----\n",
      "3 * 1 =  3\n",
      "3 * 2 =  6\n",
      "3 * 3 =  9\n",
      "3 * 4 = 12\n",
      "3 * 5 = 15\n",
      "3 * 6 = 18\n",
      "3 * 7 = 21\n",
      "3 * 8 = 24\n",
      "3 * 9 = 27\n",
      "\n",
      "----4단----\n",
      "4 * 1 =  4\n",
      "4 * 2 =  8\n",
      "4 * 3 = 12\n",
      "4 * 4 = 16\n",
      "4 * 5 = 20\n",
      "4 * 6 = 24\n",
      "4 * 7 = 28\n",
      "4 * 8 = 32\n",
      "4 * 9 = 36\n",
      "\n",
      "----5단----\n",
      "5 * 1 =  5\n",
      "5 * 2 = 10\n",
      "5 * 3 = 15\n",
      "5 * 4 = 20\n",
      "5 * 5 = 25\n",
      "5 * 6 = 30\n",
      "5 * 7 = 35\n",
      "5 * 8 = 40\n",
      "5 * 9 = 45\n",
      "\n",
      "----6단----\n",
      "6 * 1 =  6\n",
      "6 * 2 = 12\n",
      "6 * 3 = 18\n",
      "6 * 4 = 24\n",
      "6 * 5 = 30\n",
      "6 * 6 = 36\n",
      "6 * 7 = 42\n",
      "6 * 8 = 48\n",
      "6 * 9 = 54\n",
      "\n",
      "----7단----\n",
      "7 * 1 =  7\n",
      "7 * 2 = 14\n",
      "7 * 3 = 21\n",
      "7 * 4 = 28\n",
      "7 * 5 = 35\n",
      "7 * 6 = 42\n",
      "7 * 7 = 49\n",
      "7 * 8 = 56\n",
      "7 * 9 = 63\n",
      "\n",
      "----8단----\n",
      "8 * 1 =  8\n",
      "8 * 2 = 16\n",
      "8 * 3 = 24\n",
      "8 * 4 = 32\n",
      "8 * 5 = 40\n",
      "8 * 6 = 48\n",
      "8 * 7 = 56\n",
      "8 * 8 = 64\n",
      "8 * 9 = 72\n",
      "\n",
      "----9단----\n",
      "9 * 1 =  9\n",
      "9 * 2 = 18\n",
      "9 * 3 = 27\n",
      "9 * 4 = 36\n",
      "9 * 5 = 45\n",
      "9 * 6 = 54\n",
      "9 * 7 = 63\n",
      "9 * 8 = 72\n",
      "9 * 9 = 81\n",
      "\n"
     ]
    }
   ],
   "source": [
    "for i in range(2, 10):\n",
    "    print(f'----{i}단----')\n",
    "    for j in range(1,10):\n",
    "        print(f'{i} * {j} = {i*j:2}') #2자리 수 확보\n",
    "    print()"
   ]
  },
  {
   "cell_type": "code",
   "execution_count": 111,
   "id": "81a52477-70d0-4318-9ee5-07ab87eb779c",
   "metadata": {
    "tags": []
   },
   "outputs": [],
   "source": [
    "# 2단   3단   4단   5단   6단    ..."
   ]
  },
  {
   "cell_type": "code",
   "execution_count": 117,
   "id": "c1d4b99c-5f89-453c-a283-4b7ffe5e63b6",
   "metadata": {},
   "outputs": [
    {
     "name": "stdout",
     "output_type": "stream",
     "text": [
      "2 * 1 =  2   3 * 1 =  3   4 * 1 =  4   5 * 1 =  5   6 * 1 =  6   7 * 1 =  7   8 * 1 =  8   9 * 1 =  9   \n",
      "2 * 2 =  4   3 * 2 =  6   4 * 2 =  8   5 * 2 = 10   6 * 2 = 12   7 * 2 = 14   8 * 2 = 16   9 * 2 = 18   \n",
      "2 * 3 =  6   3 * 3 =  9   4 * 3 = 12   5 * 3 = 15   6 * 3 = 18   7 * 3 = 21   8 * 3 = 24   9 * 3 = 27   \n",
      "2 * 4 =  8   3 * 4 = 12   4 * 4 = 16   5 * 4 = 20   6 * 4 = 24   7 * 4 = 28   8 * 4 = 32   9 * 4 = 36   \n",
      "2 * 5 = 10   3 * 5 = 15   4 * 5 = 20   5 * 5 = 25   6 * 5 = 30   7 * 5 = 35   8 * 5 = 40   9 * 5 = 45   \n",
      "2 * 6 = 12   3 * 6 = 18   4 * 6 = 24   5 * 6 = 30   6 * 6 = 36   7 * 6 = 42   8 * 6 = 48   9 * 6 = 54   \n",
      "2 * 7 = 14   3 * 7 = 21   4 * 7 = 28   5 * 7 = 35   6 * 7 = 42   7 * 7 = 49   8 * 7 = 56   9 * 7 = 63   \n",
      "2 * 8 = 16   3 * 8 = 24   4 * 8 = 32   5 * 8 = 40   6 * 8 = 48   7 * 8 = 56   8 * 8 = 64   9 * 8 = 72   \n",
      "2 * 9 = 18   3 * 9 = 27   4 * 9 = 36   5 * 9 = 45   6 * 9 = 54   7 * 9 = 63   8 * 9 = 72   9 * 9 = 81   \n"
     ]
    }
   ],
   "source": [
    "for i in range(1,10):\n",
    "    for j in range(2,10):\n",
    "        print(f'{j} * {i} = {j*i:2}',end='   ')\n",
    "    print()"
   ]
  },
  {
   "cell_type": "code",
   "execution_count": null,
   "id": "2212abd2-cea7-4db8-b6e7-1fa6180687c2",
   "metadata": {},
   "outputs": [],
   "source": []
  }
 ],
 "metadata": {
  "kernelspec": {
   "display_name": "Python 3 (ipykernel)",
   "language": "python",
   "name": "python3"
  },
  "language_info": {
   "codemirror_mode": {
    "name": "ipython",
    "version": 3
   },
   "file_extension": ".py",
   "mimetype": "text/x-python",
   "name": "python",
   "nbconvert_exporter": "python",
   "pygments_lexer": "ipython3",
   "version": "3.9.12"
  }
 },
 "nbformat": 4,
 "nbformat_minor": 5
}
